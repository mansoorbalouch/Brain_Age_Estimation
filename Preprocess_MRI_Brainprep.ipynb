{
 "cells": [
  {
   "cell_type": "code",
   "execution_count": 46,
   "metadata": {},
   "outputs": [],
   "source": [
    "import brainprep as bp\n",
    "from brainprep.workflow import brainprep_cat12vbm_roi, brainprep_cat12vbm\n",
    "from brainprep.workflow.fsreconall import brainprep_fsreconall\n",
    "from brainprep.workflow.deface import brainprep_deface\n",
    "import gzip\n",
    "from brainprep.workflow.quasiraw import brainprep_quasiraw\n",
    "from nilearn.masking import compute_brain_mask"
   ]
  },
  {
   "cell_type": "code",
   "execution_count": 54,
   "metadata": {},
   "outputs": [],
   "source": [
    "t1w_file = \"/media/dataanalyticlab/Drive2/MANSOOR/Dataset/IXI/Test/cat_sub-100053248969_sess-02_T1w.nii.gz\"\n",
    "output =\"/media/dataanalyticlab/Drive2/MANSOOR/Dataset/IXI/\"\n",
    "participant_id = \"100053248969\"\n",
    "spm= \"/media/dataanalyticlab/Drive2/MATLAB/spm12/spm_standalone.m\"\n",
    "out_dir = \"/media/dataanalyticlab/Drive2/MANSOOR/Dataset/IXI/\"\n",
    "mask = \"/media/dataanalyticlab/Drive2/MANSOOR/Dataset/OpenBHB/resource/quasiraw_space-MNI152_desc-brain_T1w.nii\"\n",
    "template_dir = \"/home/dataanalyticlab/fsl/src/fsl-flirt\""
   ]
  },
  {
   "cell_type": "code",
   "execution_count": 47,
   "metadata": {},
   "outputs": [],
   "source": [
    "mask_i = compute_brain_mask(t1w_file, threshold=0)"
   ]
  },
  {
   "cell_type": "code",
   "execution_count": null,
   "metadata": {},
   "outputs": [],
   "source": [
    "bp.workflow.cat12vbm.brainprep_cat12vbm_roi(t1w_file, output=out_dir)"
   ]
  },
  {
   "cell_type": "code",
   "execution_count": 55,
   "metadata": {},
   "outputs": [
    {
     "name": "stdout",
     "output_type": "stream",
     "text": [
      "\u001b[38;5;178m\u001b[1mLaunch FreeSurfer reconall...\u001b[0m\n",
      "\u001b[38;5;243mrecon-all -all -subjid 100053248969 -i /media/dataanalyticlab/Drive2/MANSOOR/Dataset/IXI/Test/cat_sub-100053248969_sess-02_T1w.nii.gz -sd /media/dataanalyticlab/Drive2/MANSOOR/Dataset/IXI/ -noappend -no-isrunning\u001b[0m\n"
     ]
    }
   ],
   "source": [
    "bp.workflow.fsreconall.brainprep_fsreconall(subjid=participant_id, anatomical=t1w_file, outdir=out_dir, template_dir=template_dir)"
   ]
  },
  {
   "cell_type": "code",
   "execution_count": null,
   "metadata": {},
   "outputs": [],
   "source": [
    "bp.workflow.quasiraw.brainprep_quasiraw(t1w_file, outdir=out_dir, mask=mask_i.get_fdata())"
   ]
  },
  {
   "cell_type": "code",
   "execution_count": null,
   "metadata": {},
   "outputs": [],
   "source": []
  }
 ],
 "metadata": {
  "kernelspec": {
   "display_name": "Python 3",
   "language": "python",
   "name": "python3"
  },
  "language_info": {
   "codemirror_mode": {
    "name": "ipython",
    "version": 3
   },
   "file_extension": ".py",
   "mimetype": "text/x-python",
   "name": "python",
   "nbconvert_exporter": "python",
   "pygments_lexer": "ipython3",
   "version": "3.10.6 (main, Nov 14 2022, 16:10:14) [GCC 11.3.0]"
  },
  "orig_nbformat": 4,
  "vscode": {
   "interpreter": {
    "hash": "916dbcbb3f70747c44a77c7bcd40155683ae19c65e1c03b4aa3499c5328201f1"
   }
  }
 },
 "nbformat": 4,
 "nbformat_minor": 2
}
